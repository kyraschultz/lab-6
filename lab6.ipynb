{
 "cells": [
  {
   "cell_type": "code",
   "execution_count": 6,
   "metadata": {},
   "outputs": [
    {
     "name": "stdin",
     "output_type": "stream",
     "text": [
      "What is your name?:  Casey\n",
      "How many times have you ate McDonalds in the past week? 30\n"
     ]
    },
    {
     "name": "stdout",
     "output_type": "stream",
     "text": [
      "You need to go to the hospital.\n"
     ]
    }
   ],
   "source": [
    "name = input(\"What is your name?: \")\n",
    "amount = int(input(\"How many times have you ate fast food in the past week?\"))\n",
    "if amount < 0:\n",
    "    print(\"{0}, lying won't solve your problems.\".format(name))\n",
    "elif amount == 0:\n",
    "    print(\"You are healthy {0}!\".format(name))\n",
    "elif amount == 1:\n",
    "    print(\"Close enough.\")\n",
    "elif amount > 7:\n",
    "    print(\"You need to go to the hospital.\")\n",
    "else:\n",
    "    print(\"Maybe it's time to cut back {0}.\".format(name))"
   ]
  }
 ],
 "metadata": {
  "kernelspec": {
   "display_name": "Python 3",
   "language": "python",
   "name": "python3"
  },
  "language_info": {
   "codemirror_mode": {
    "name": "ipython",
    "version": 3
   },
   "file_extension": ".py",
   "mimetype": "text/x-python",
   "name": "python",
   "nbconvert_exporter": "python",
   "pygments_lexer": "ipython3",
   "version": "3.8.3"
  }
 },
 "nbformat": 4,
 "nbformat_minor": 4
}
